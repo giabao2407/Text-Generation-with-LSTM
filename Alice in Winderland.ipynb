{
 "cells": [
  {
   "cell_type": "code",
   "execution_count": 3,
   "metadata": {},
   "outputs": [],
   "source": [
    "import numpy as np\n",
    "import torch\n",
    "import torch.nn as nn\n",
    "import torch.optim as optim\n",
    "import torch.utils.data as data"
   ]
  },
  {
   "cell_type": "code",
   "execution_count": 4,
   "metadata": {},
   "outputs": [],
   "source": [
    "filename = \"wonderland.txt\"\n",
    "raw_text = open(filename, 'r', encoding='utf-8').read()\n",
    "raw_text = raw_text.lower()"
   ]
  },
  {
   "cell_type": "code",
   "execution_count": 5,
   "metadata": {},
   "outputs": [],
   "source": [
    "chars = sorted(list(set(raw_text))) # Unique characters in the dataset\n",
    "char_to_int = dict((c, i) for i, c in enumerate(chars)) # A dictionary to map unique characters to integers. When we call enumerate function, we will get something like this [(0, 'A'), (1, 'B'), (2, 'C'), (3, 'D')]\n",
    "int_to_char = dict((i, c) for c, i in char_to_int.items()) # A dictionary to transform integers back to characters. This is just reversing of char_to_int."
   ]
  },
  {
   "cell_type": "code",
   "execution_count": 6,
   "metadata": {},
   "outputs": [],
   "source": [
    "n_chars = len(raw_text) # 143146 characters\n",
    "n_vocab = len(chars) # 46. Note that we are calculating the list `chars`, not the number `n_chars`\n",
    "dataX = []\n",
    "dataY = []\n",
    "for i in range(0, n_chars - 100, 1):\n",
    "    seq_in = raw_text[i:i + 100] # This is like a sliding window, getting 100 characters at a time\n",
    "    seq_out = raw_text[i + 100]\n",
    "    dataX.append([char_to_int[char] for char in seq_in])\n",
    "    dataY.append(char_to_int[seq_out])"
   ]
  },
  {
   "cell_type": "code",
   "execution_count": 7,
   "metadata": {},
   "outputs": [],
   "source": [
    "n_sequence = len(dataX)\n",
    "X = torch.tensor(dataX, dtype=torch.float32).reshape(n_sequence, 100, 1)\n",
    "X = X / float(n_vocab) # Normalize the input between 0 to 1\n",
    "y = torch.tensor(dataY)"
   ]
  },
  {
   "cell_type": "code",
   "execution_count": 8,
   "metadata": {},
   "outputs": [],
   "source": [
    "class LanguageModel(nn.Module):\n",
    "    def __init__(self):\n",
    "        super().__init__()\n",
    "        self.lstm = nn.LSTM(input_size=1, hidden_size=256, num_layers=1, batch_first=True) \n",
    "        self.dropout = nn.Dropout(0.2)\n",
    "        self.linear = nn.Linear(256, n_vocab)\n",
    "    def forward(self, x):\n",
    "        x, _ = self.lstm(x)\n",
    "        x = x[:, -1, :] # X is the output of LSTM, it will have this shape [batch_size, seq_len, hidden_size]. We only need to get the last value of the output sequence so we use -1.\n",
    "        x = self.dropout(x)\n",
    "        x = self.linear(x) # Predicting one of the 46 characters in the vocab\n",
    "        return x"
   ]
  },
  {
   "cell_type": "code",
   "execution_count": 9,
   "metadata": {},
   "outputs": [
    {
     "name": "stdout",
     "output_type": "stream",
     "text": [
      "Running Epoch 0 ...\n",
      "Running Epoch 1 ...\n",
      "Running Epoch 2 ...\n",
      "Running Epoch 3 ...\n",
      "Running Epoch 4 ...\n",
      "Finished training\n"
     ]
    }
   ],
   "source": [
    "model = LanguageModel()\n",
    "optimizer = optim.Adam(model.parameters())\n",
    "loss_fn = nn.CrossEntropyLoss()\n",
    "loader = data.DataLoader(data.TensorDataset(X, y), shuffle=True, batch_size=128)\n",
    "model.train()\n",
    "for epoch in range(5): \n",
    "    print(\"Running Epoch %d ...\" % epoch)\n",
    "    for X_batch, y_batch in loader:\n",
    "        y_pred = model(X_batch)\n",
    "        loss = loss_fn(y_pred, y_batch)\n",
    "        optimizer.zero_grad()\n",
    "        loss.backward()\n",
    "        optimizer.step()\n",
    "print(\"Finished training\")"
   ]
  },
  {
   "cell_type": "code",
   "execution_count": 17,
   "metadata": {},
   "outputs": [],
   "source": [
    "def predict(prompt):\n",
    "    sequence = [char_to_int[c] for c in prompt]\n",
    "    with torch.no_grad():\n",
    "        for i in range(1000):\n",
    "            x = np.reshape(sequence, (1, len(sequence), 1)) / float(n_vocab) # Reshape and normalize\n",
    "            x = torch.tensor(x, dtype=torch.float32)\n",
    "            prediction = model(x)\n",
    "            index = int(prediction.argmax()) # Predict an array of 46 integers\n",
    "            sequence.append(index) # Append the predicted integer into the current sequence\n",
    "            sequence = sequence[1:] # Remove the first integer from the sequence \n",
    "    return ''.join([int_to_char[i] for i in sequence]) # Convert all the integers into characters"
   ]
  },
  {
   "cell_type": "code",
   "execution_count": 28,
   "metadata": {},
   "outputs": [
    {
     "name": "stdout",
     "output_type": "stream",
     "text": [
      "Running on local URL:  http://127.0.0.1:7860\n",
      "\n",
      "To create a public link, set `share=True` in `launch()`.\n"
     ]
    },
    {
     "data": {
      "text/html": [
       "<div><iframe src=\"http://127.0.0.1:7860/\" width=\"100%\" height=\"500\" allow=\"autoplay; camera; microphone; clipboard-read; clipboard-write;\" frameborder=\"0\" allowfullscreen></iframe></div>"
      ],
      "text/plain": [
       "<IPython.core.display.HTML object>"
      ]
     },
     "metadata": {},
     "output_type": "display_data"
    },
    {
     "data": {
      "text/plain": []
     },
     "execution_count": 28,
     "metadata": {},
     "output_type": "execute_result"
    }
   ],
   "source": [
    "import gradio as gr\n",
    "model.eval() # Change to evaluation mode because we don't want Dropout Layer to automatically drop Neural Network nodes when we are making prediction\n",
    "def text_generation(prompt):\n",
    "    return predict(prompt)\n",
    "gr.Interface(fn=text_generation, inputs=[\"text\"], outputs=[\"text\"]).launch()"
   ]
  }
 ],
 "metadata": {
  "kernelspec": {
   "display_name": "Python 3",
   "language": "python",
   "name": "python3"
  },
  "language_info": {
   "codemirror_mode": {
    "name": "ipython",
    "version": 3
   },
   "file_extension": ".py",
   "mimetype": "text/x-python",
   "name": "python",
   "nbconvert_exporter": "python",
   "pygments_lexer": "ipython3",
   "version": "3.11.3"
  },
  "orig_nbformat": 4
 },
 "nbformat": 4,
 "nbformat_minor": 2
}
